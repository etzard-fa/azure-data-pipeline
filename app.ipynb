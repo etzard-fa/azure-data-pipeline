{
 "cells": [
  {
   "cell_type": "code",
   "execution_count": 19,
   "metadata": {},
   "outputs": [],
   "source": [
    "import gspread\n",
    "import pandas as pd\n",
    "from oauth2client.service_account import ServiceAccountCredentials"
   ]
  },
  {
   "cell_type": "code",
   "execution_count": 20,
   "metadata": {},
   "outputs": [],
   "source": [
    "scope = ['https://spreadsheets.google.com/feeds','https://www.googleapis.com/auth/drive']\n",
    "creds = ServiceAccountCredentials.from_json_keyfile_name('focus-vertex-300815-0488a7bd6a48.json', scope)\n",
    "client = gspread.authorize(creds)"
   ]
  },
  {
   "cell_type": "code",
   "execution_count": 21,
   "metadata": {},
   "outputs": [],
   "source": [
    "sheet = client.open('MERPATI_CRM')\n",
    "sheet_instance = sheet.get_worksheet(0)"
   ]
  },
  {
   "cell_type": "code",
   "execution_count": 22,
   "metadata": {},
   "outputs": [
    {
     "name": "stdout",
     "output_type": "stream",
     "text": [
      "[{'Name ': 'ULaGreMa', 'Phone ': '802--33-2323', 'Email ': 'ULaGreMa@gmail.com', 'Date of last contact': '20/4/2020', 'Status': 'ACTIVE'}, {'Name ': 'Ginger Kemp', 'Phone ': '802--33-3888', 'Email ': 'Ginger Kemp@gmail.com', 'Date of last contact': '21/4/2020', 'Status': 'ACTIVE'}, {'Name ': 'Abracanope', 'Phone ': '802--33-3889', 'Email ': 'Abracanope@gmail.com', 'Date of last contact': '22/4/2020', 'Status': 'ACTIVE'}, {'Name ': 'Afishionado', 'Phone ': '802--33-3890', 'Email ': 'Afishionado@gmail.com', 'Date of last contact': '23/4/2020', 'Status': 'ACTIVE'}, {'Name ': 'Ambrosaur', 'Phone ': '802--33-3891', 'Email ': 'Ambrosaur@gmail.com', 'Date of last contact': '24/4/2020', 'Status': 'ACTIVE'}, {'Name ': 'Slamboozle', 'Phone ': '802--33-3892', 'Email ': 'Slamboozle@gmail.com', 'Date of last contact': '25/4/2020', 'Status': 'ACTIVE'}, {'Name ': 'BlabberCrab', 'Phone ': '802--33-3893', 'Email ': 'BlabberCrab@gmail.com', 'Date of last contact': '26/4/2020', 'Status': 'ACTIVE'}, {'Name ': 'Catnoodle', 'Phone ': '802--33-3894', 'Email ': 'Catnoodle@gmail.com', 'Date of last contact': '27/4/2020', 'Status': 'ACTIVE'}, {'Name ': 'Caterwhy', 'Phone ': '802--33-3895', 'Email ': 'Caterwhy@gmail.com', 'Date of last contact': '28/4/2020', 'Status': 'ACTIVE'}, {'Name ': 'CuckooBlue', 'Phone ': '802--33-3896', 'Email ': 'CuckooBlue@gmail.com', 'Date of last contact': '29/4/2020', 'Status': 'ACTIVE'}, {'Name ': 'RibbitRiot', 'Phone ': '802--33-3897', 'Email ': 'RibbitRiot@gmail.com', 'Date of last contact': '30/4/2020', 'Status': 'ACTIVE'}, {'Name ': 'GobbeldyGator', 'Phone ': '802--33-3898', 'Email ': 'GobbeldyGator@gmail.com', 'Date of last contact': '1/5/2020', 'Status': 'ACTIVE'}, {'Name ': 'Hedgehound', 'Phone ': '802--33-3899', 'Email ': 'Hedgehound@gmail.com', 'Date of last contact': '2/5/2020', 'Status': 'ACTIVE'}, {'Name ': 'Kittenkerfuffle', 'Phone ': '802--33-3900', 'Email ': 'Kittenkerfuffle@gmail.com', 'Date of last contact': '3/5/2020', 'Status': 'UNACTIVE'}, {'Name ': 'MilqueBiscuit', 'Phone ': '802--33-3901', 'Email ': 'MilqueBiscuit@gmail.com', 'Date of last contact': '4/5/2020', 'Status': 'UNACTIVE'}, {'Name ': 'Mudpuppy', 'Phone ': '802--33-3902', 'Email ': 'Mudpuppy@gmail.com', 'Date of last contact': '5/5/2020', 'Status': 'UNACTIVE'}, {'Name ': 'PachyDelight', 'Phone ': '802--33-3903', 'Email ': 'PachyDelight@gmail.com', 'Date of last contact': '6/5/2020', 'Status': 'UNACTIVE'}, {'Name ': 'Phantonemesis', 'Phone ': '802--33-3904', 'Email ': 'Phantonemesis@gmail.com', 'Date of last contact': '7/5/2020', 'Status': 'UNACTIVE'}, {'Name ': 'SashayToStay', 'Phone ': '802--33-3905', 'Email ': 'SashayToStay@gmail.com', 'Date of last contact': '8/5/2020', 'Status': 'UNACTIVE'}, {'Name ': 'Scuttlebuns', 'Phone ': '802--33-3906', 'Email ': 'Scuttlebuns@gmail.com', 'Date of last contact': '9/5/2020', 'Status': 'UNACTIVE'}, {'Name ': 'ToastyToadstool', 'Phone ': '802--33-3907', 'Email ': 'ToastyToadstool@gmail.com', 'Date of last contact': '10/5/2020', 'Status': 'UNACTIVE'}, {'Name ': 'Whirligoof', 'Phone ': '802--33-3908', 'Email ': 'Whirligoof@gmail.com', 'Date of last contact': '11/5/2020', 'Status': 'UNACTIVE'}]\n"
     ]
    }
   ],
   "source": [
    "records_data = sheet_instance.get_all_records()\n",
    "print(records_data)"
   ]
  },
  {
   "cell_type": "code",
   "execution_count": 23,
   "metadata": {},
   "outputs": [
    {
     "data": {
      "text/html": [
       "<div>\n",
       "<style scoped>\n",
       "    .dataframe tbody tr th:only-of-type {\n",
       "        vertical-align: middle;\n",
       "    }\n",
       "\n",
       "    .dataframe tbody tr th {\n",
       "        vertical-align: top;\n",
       "    }\n",
       "\n",
       "    .dataframe thead th {\n",
       "        text-align: right;\n",
       "    }\n",
       "</style>\n",
       "<table border=\"1\" class=\"dataframe\">\n",
       "  <thead>\n",
       "    <tr style=\"text-align: right;\">\n",
       "      <th></th>\n",
       "      <th>Name</th>\n",
       "      <th>Phone</th>\n",
       "      <th>Email</th>\n",
       "      <th>Date of last contact</th>\n",
       "      <th>Status</th>\n",
       "    </tr>\n",
       "  </thead>\n",
       "  <tbody>\n",
       "    <tr>\n",
       "      <th>0</th>\n",
       "      <td>ULaGreMa</td>\n",
       "      <td>802--33-2323</td>\n",
       "      <td>ULaGreMa@gmail.com</td>\n",
       "      <td>20/4/2020</td>\n",
       "      <td>ACTIVE</td>\n",
       "    </tr>\n",
       "    <tr>\n",
       "      <th>1</th>\n",
       "      <td>Ginger Kemp</td>\n",
       "      <td>802--33-3888</td>\n",
       "      <td>Ginger Kemp@gmail.com</td>\n",
       "      <td>21/4/2020</td>\n",
       "      <td>ACTIVE</td>\n",
       "    </tr>\n",
       "    <tr>\n",
       "      <th>2</th>\n",
       "      <td>Abracanope</td>\n",
       "      <td>802--33-3889</td>\n",
       "      <td>Abracanope@gmail.com</td>\n",
       "      <td>22/4/2020</td>\n",
       "      <td>ACTIVE</td>\n",
       "    </tr>\n",
       "    <tr>\n",
       "      <th>3</th>\n",
       "      <td>Afishionado</td>\n",
       "      <td>802--33-3890</td>\n",
       "      <td>Afishionado@gmail.com</td>\n",
       "      <td>23/4/2020</td>\n",
       "      <td>ACTIVE</td>\n",
       "    </tr>\n",
       "    <tr>\n",
       "      <th>4</th>\n",
       "      <td>Ambrosaur</td>\n",
       "      <td>802--33-3891</td>\n",
       "      <td>Ambrosaur@gmail.com</td>\n",
       "      <td>24/4/2020</td>\n",
       "      <td>ACTIVE</td>\n",
       "    </tr>\n",
       "  </tbody>\n",
       "</table>\n",
       "</div>"
      ],
      "text/plain": [
       "         Name         Phone                  Email  Date of last contact  \\\n",
       "0     ULaGreMa  802--33-2323     ULaGreMa@gmail.com            20/4/2020   \n",
       "1  Ginger Kemp  802--33-3888  Ginger Kemp@gmail.com            21/4/2020   \n",
       "2   Abracanope  802--33-3889   Abracanope@gmail.com            22/4/2020   \n",
       "3  Afishionado  802--33-3890  Afishionado@gmail.com            23/4/2020   \n",
       "4    Ambrosaur  802--33-3891    Ambrosaur@gmail.com            24/4/2020   \n",
       "\n",
       "   Status  \n",
       "0  ACTIVE  \n",
       "1  ACTIVE  \n",
       "2  ACTIVE  \n",
       "3  ACTIVE  \n",
       "4  ACTIVE  "
      ]
     },
     "execution_count": 23,
     "metadata": {},
     "output_type": "execute_result"
    }
   ],
   "source": [
    "record_df = pd.DataFrame.from_dict(records_data)\n",
    "record_df.head()"
   ]
  },
  {
   "cell_type": "code",
   "execution_count": null,
   "metadata": {},
   "outputs": [],
   "source": []
  }
 ],
 "metadata": {
  "kernelspec": {
   "display_name": "Python 3",
   "language": "python",
   "name": "python3"
  },
  "language_info": {
   "codemirror_mode": {
    "name": "ipython",
    "version": 3
   },
   "file_extension": ".py",
   "mimetype": "text/x-python",
   "name": "python",
   "nbconvert_exporter": "python",
   "pygments_lexer": "ipython3",
   "version": "3.7.6"
  }
 },
 "nbformat": 4,
 "nbformat_minor": 4
}
